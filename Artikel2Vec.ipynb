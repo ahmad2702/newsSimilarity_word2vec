{
 "cells": [
  {
   "cell_type": "code",
   "execution_count": 2,
   "metadata": {},
   "outputs": [],
   "source": [
    "# Parallelität\n",
    "import multiprocessing\n",
    "\n",
    "# Kommunkation mit Betriebssystem\n",
    "import os\n",
    "\n",
    "# Reguläre Ausdrücke\n",
    "import re\n",
    "\n",
    "# NLP\n",
    "import nltk\n",
    "\n",
    "# Word2Vec von Gensim\n",
    "import gensim.models.word2vec as w2v\n",
    "\n",
    "# Dimensionsverminderung\n",
    "import sklearn.manifold\n",
    "\n",
    "# Plot von Matplotlib\n",
    "import matplotlib.pyplot as plt\n",
    "\n",
    "# DatasetParser\n",
    "import pandas as pd\n",
    "\n",
    "# Kommunikation mit Mongo DB\n",
    "import pymongo"
   ]
  },
  {
   "cell_type": "code",
   "execution_count": 4,
   "metadata": {},
   "outputs": [],
   "source": [
    "# Order, wo dieses Jupyter-Notebook befindet\n",
    "current_path=os.getcwd()\n",
    "\n",
    "#print(current_path)"
   ]
  },
  {
   "cell_type": "code",
   "execution_count": 5,
   "metadata": {},
   "outputs": [],
   "source": [
    "db_server = '141.45.146.247'\n",
    "db_port= 27017\n",
    "\n",
    "client = pymongo.MongoClient(db_server, db_port)"
   ]
  },
  {
   "cell_type": "code",
   "execution_count": 6,
   "metadata": {},
   "outputs": [],
   "source": [
    "gr1_collection = client.gruppe1.articles\n",
    "\n",
    "artikels=gr1_collection.find()\n",
    "#print(artikels.count())"
   ]
  },
  {
   "cell_type": "code",
   "execution_count": 7,
   "metadata": {},
   "outputs": [],
   "source": [
    "myFirst=artikels[0]"
   ]
  },
  {
   "cell_type": "code",
   "execution_count": 8,
   "metadata": {},
   "outputs": [],
   "source": [
    "def getData(file, key):\n",
    "   return file[key]"
   ]
  },
  {
   "cell_type": "code",
   "execution_count": 9,
   "metadata": {},
   "outputs": [
    {
     "name": "stdout",
     "output_type": "stream",
     "text": [
      "EU-Justizkommissarin Vera Jourova hat vor einer zunehmenden Beeinflussung von Wählern im Internet gewarnt. „Die Online–Medien sind eine ’Black box’“, sagte Jourova am Dienstag in Berlin. In dieser Situation müssten die EU-Staaten den Bürgern die Freiheit der Wahlentscheidungen garantieren. Dies gelte auch für den Fall, dass legal erworbene Nutzerdaten bei Wahlkampagnen verwendet würden, sagte Jourova.Jourova hielt sich in Berlin auf, um knapp zwei Wochen vor dem Inkrafttreten der europäischen Datenschutz-Grundverordnung am 25. Mai politische Gespräche unter anderem mit Justizministerin Katarina Barley (SPD) und der Digital-Staatsministerin Dorothee Bär (CSU) zu führen. Der Datenskandal um Facebook und Cambridge Analytica, von dem auch 2,7 Millionen EU-Bürger betroffen waren, sei ein Weckruf für den Datenschutz, sagte Jourova. Angesichts des Skandals, bei dem Nutzerdaten unerlaubt für die Kampagne des heutigen US-Präsidenten Donald Trump verwendet worden sein sollen, stelle sich die Frage, welche Wahlen sonst noch beeinflusst worden sein könnten, sagte Jourova. \"Politische Kampagnen verlagern sich zunehmend von der Welt der traditionellen Medien in die Online-Sphäre\", sagte die tschechische EU-Kommisarin weiter. Auch dort müsse aber die Einhaltung von Regeln und Transparenz gewährleistet sein, so Jourova.\n"
     ]
    }
   ],
   "source": [
    "text1=getData(myFirst, 'text')\n",
    "print(text1)"
   ]
  },
  {
   "cell_type": "code",
   "execution_count": 10,
   "metadata": {},
   "outputs": [],
   "source": [
    "tokenizer = nltk.data.load('tokenizers/punkt/german.pickle')"
   ]
  },
  {
   "cell_type": "code",
   "execution_count": 11,
   "metadata": {},
   "outputs": [],
   "source": [
    "raw_sentences = tokenizer.tokenize(text1)\n",
    "#print(raw_sentences)"
   ]
  },
  {
   "cell_type": "code",
   "execution_count": 12,
   "metadata": {},
   "outputs": [],
   "source": [
    "def sentence_to_wordlist(raw):\n",
    "    clean = re.sub(\"[^a-zA-Z]\",\" \", raw)\n",
    "    words = clean.split()\n",
    "    return words"
   ]
  },
  {
   "cell_type": "code",
   "execution_count": 13,
   "metadata": {},
   "outputs": [],
   "source": [
    "sentences = []\n",
    "for raw_sentence in raw_sentences:\n",
    "    if len(raw_sentence) > 0:\n",
    "        sentences.append(sentence_to_wordlist(raw_sentence))\n",
    "        \n",
    "#print(sentences)"
   ]
  },
  {
   "cell_type": "code",
   "execution_count": 14,
   "metadata": {},
   "outputs": [
    {
     "name": "stdout",
     "output_type": "stream",
     "text": [
      "The article corpus contains 203 tokens\n"
     ]
    }
   ],
   "source": [
    "token_count = sum([len(sentence) for sentence in sentences])\n",
    "print(\"The article corpus contains {0:,} tokens\".format(token_count))"
   ]
  },
  {
   "cell_type": "code",
   "execution_count": 15,
   "metadata": {},
   "outputs": [],
   "source": [
    "# Dimensionality of the resulting word vectors.\n",
    "#more dimensions mean more traiig them, but more generalized\n",
    "num_features = 300\n",
    "\n",
    "#\n",
    "# Minimum word count threshold.\n",
    "min_word_count = 1\n",
    "\n",
    "# Number of threads to run in parallel.\n",
    "num_workers = multiprocessing.cpu_count()\n",
    "\n",
    "# Context window length.\n",
    "context_size = 2\n",
    "\n",
    "# Downsample setting for frequent words.\n",
    "#rate 0 and 1e-5 \n",
    "#how often to use\n",
    "downsampling = 1e-3\n",
    "\n",
    "# Seed for the RNG, to make the results reproducible.\n",
    "seed = 1"
   ]
  },
  {
   "cell_type": "code",
   "execution_count": 16,
   "metadata": {},
   "outputs": [],
   "source": [
    "article2vec = w2v.Word2Vec(\n",
    "    sg=1,\n",
    "    seed=seed,\n",
    "    workers=num_workers,\n",
    "    size=num_features,\n",
    "    min_count=min_word_count,\n",
    "    window=context_size,\n",
    "    sample=downsampling\n",
    ")"
   ]
  },
  {
   "cell_type": "code",
   "execution_count": 17,
   "metadata": {},
   "outputs": [],
   "source": [
    "article2vec.build_vocab(sentences)"
   ]
  },
  {
   "cell_type": "code",
   "execution_count": 18,
   "metadata": {},
   "outputs": [
    {
     "name": "stdout",
     "output_type": "stream",
     "text": [
      "Word2Vec vocabulary length: 143\n"
     ]
    }
   ],
   "source": [
    "print(\"Word2Vec vocabulary length:\", len(article2vec.wv.vocab)) # Achtung!"
   ]
  },
  {
   "cell_type": "code",
   "execution_count": 19,
   "metadata": {},
   "outputs": [
    {
     "data": {
      "text/plain": [
       "(514, 1015)"
      ]
     },
     "execution_count": 19,
     "metadata": {},
     "output_type": "execute_result"
    }
   ],
   "source": [
    "#train model on sentneces\n",
    "article2vec.train(sentences, total_examples=article2vec.corpus_count, epochs=article2vec.epochs)"
   ]
  },
  {
   "cell_type": "code",
   "execution_count": 20,
   "metadata": {},
   "outputs": [],
   "source": [
    "model_path = \"trained\"\n",
    "if not os.path.exists(current_path+\"/\"+model_path):\n",
    "    os.makedirs(current_path+\"/\"+model_path)\n",
    "\n",
    "model_name = \"article2vec.w2v\"\n",
    "article2vec.save(current_path+\"/\"+model_path+\"/\"+model_name)"
   ]
  },
  {
   "cell_type": "code",
   "execution_count": 21,
   "metadata": {},
   "outputs": [],
   "source": [
    "article2vec = w2v.Word2Vec.load(current_path+\"/\"+model_path+\"/\"+model_name)"
   ]
  },
  {
   "cell_type": "code",
   "execution_count": 22,
   "metadata": {},
   "outputs": [],
   "source": [
    "tsne = sklearn.manifold.TSNE(n_components=2, random_state=0)"
   ]
  },
  {
   "cell_type": "code",
   "execution_count": 23,
   "metadata": {},
   "outputs": [
    {
     "name": "stdout",
     "output_type": "stream",
     "text": [
      "CPU times: user 11 µs, sys: 1 µs, total: 12 µs\n",
      "Wall time: 18.1 µs\n"
     ]
    }
   ],
   "source": [
    "%%time\n",
    "all_word_vectors_matrix = article2vec.wv.vectors #Achtung"
   ]
  },
  {
   "cell_type": "code",
   "execution_count": 60,
   "metadata": {},
   "outputs": [],
   "source": [
    "#print(all_word_vectors_matrix)"
   ]
  },
  {
   "cell_type": "code",
   "execution_count": 24,
   "metadata": {},
   "outputs": [],
   "source": [
    "all_word_vectors_matrix_2d = tsne.fit_transform(all_word_vectors_matrix)"
   ]
  },
  {
   "cell_type": "code",
   "execution_count": 25,
   "metadata": {},
   "outputs": [],
   "source": [
    "points = pd.DataFrame(\n",
    "    [\n",
    "        (word, coords[0], coords[1])\n",
    "        for word, coords in [\n",
    "            (word, all_word_vectors_matrix_2d[article2vec.wv.vocab[word].index])\n",
    "            for word in article2vec.wv.vocab\n",
    "        ]\n",
    "    ],\n",
    "    columns=[\"word\", \"x\", \"y\"]\n",
    ")"
   ]
  },
  {
   "cell_type": "code",
   "execution_count": 26,
   "metadata": {},
   "outputs": [
    {
     "name": "stdout",
     "output_type": "stream",
     "text": [
      "CPU times: user 482 µs, sys: 67 µs, total: 549 µs\n",
      "Wall time: 558 µs\n"
     ]
    },
    {
     "data": {
      "text/html": [
       "<div>\n",
       "<style scoped>\n",
       "    .dataframe tbody tr th:only-of-type {\n",
       "        vertical-align: middle;\n",
       "    }\n",
       "\n",
       "    .dataframe tbody tr th {\n",
       "        vertical-align: top;\n",
       "    }\n",
       "\n",
       "    .dataframe thead th {\n",
       "        text-align: right;\n",
       "    }\n",
       "</style>\n",
       "<table border=\"1\" class=\"dataframe\">\n",
       "  <thead>\n",
       "    <tr style=\"text-align: right;\">\n",
       "      <th></th>\n",
       "      <th>word</th>\n",
       "      <th>x</th>\n",
       "      <th>y</th>\n",
       "    </tr>\n",
       "  </thead>\n",
       "  <tbody>\n",
       "    <tr>\n",
       "      <th>0</th>\n",
       "      <td>EU</td>\n",
       "      <td>5.308983</td>\n",
       "      <td>-2.753000</td>\n",
       "    </tr>\n",
       "    <tr>\n",
       "      <th>1</th>\n",
       "      <td>Justizkommissarin</td>\n",
       "      <td>5.052724</td>\n",
       "      <td>1.555744</td>\n",
       "    </tr>\n",
       "    <tr>\n",
       "      <th>2</th>\n",
       "      <td>Vera</td>\n",
       "      <td>-1.289725</td>\n",
       "      <td>-3.400242</td>\n",
       "    </tr>\n",
       "    <tr>\n",
       "      <th>3</th>\n",
       "      <td>Jourova</td>\n",
       "      <td>1.652489</td>\n",
       "      <td>-1.025158</td>\n",
       "    </tr>\n",
       "    <tr>\n",
       "      <th>4</th>\n",
       "      <td>hat</td>\n",
       "      <td>3.694029</td>\n",
       "      <td>1.033950</td>\n",
       "    </tr>\n",
       "    <tr>\n",
       "      <th>5</th>\n",
       "      <td>vor</td>\n",
       "      <td>-3.136167</td>\n",
       "      <td>-0.052709</td>\n",
       "    </tr>\n",
       "    <tr>\n",
       "      <th>6</th>\n",
       "      <td>einer</td>\n",
       "      <td>3.661311</td>\n",
       "      <td>-1.255546</td>\n",
       "    </tr>\n",
       "    <tr>\n",
       "      <th>7</th>\n",
       "      <td>zunehmenden</td>\n",
       "      <td>6.314854</td>\n",
       "      <td>0.903502</td>\n",
       "    </tr>\n",
       "    <tr>\n",
       "      <th>8</th>\n",
       "      <td>Beeinflussung</td>\n",
       "      <td>2.304256</td>\n",
       "      <td>0.010765</td>\n",
       "    </tr>\n",
       "    <tr>\n",
       "      <th>9</th>\n",
       "      <td>von</td>\n",
       "      <td>-2.814842</td>\n",
       "      <td>0.286160</td>\n",
       "    </tr>\n",
       "    <tr>\n",
       "      <th>10</th>\n",
       "      <td>W</td>\n",
       "      <td>2.869040</td>\n",
       "      <td>-5.788897</td>\n",
       "    </tr>\n",
       "    <tr>\n",
       "      <th>11</th>\n",
       "      <td>hlern</td>\n",
       "      <td>3.970899</td>\n",
       "      <td>1.987499</td>\n",
       "    </tr>\n",
       "    <tr>\n",
       "      <th>12</th>\n",
       "      <td>im</td>\n",
       "      <td>4.411847</td>\n",
       "      <td>-1.031193</td>\n",
       "    </tr>\n",
       "    <tr>\n",
       "      <th>13</th>\n",
       "      <td>Internet</td>\n",
       "      <td>2.963832</td>\n",
       "      <td>-1.101234</td>\n",
       "    </tr>\n",
       "    <tr>\n",
       "      <th>14</th>\n",
       "      <td>gewarnt</td>\n",
       "      <td>6.082754</td>\n",
       "      <td>-3.542899</td>\n",
       "    </tr>\n",
       "    <tr>\n",
       "      <th>15</th>\n",
       "      <td>Die</td>\n",
       "      <td>4.921178</td>\n",
       "      <td>-4.272967</td>\n",
       "    </tr>\n",
       "    <tr>\n",
       "      <th>16</th>\n",
       "      <td>Online</td>\n",
       "      <td>-1.991684</td>\n",
       "      <td>-0.988791</td>\n",
       "    </tr>\n",
       "    <tr>\n",
       "      <th>17</th>\n",
       "      <td>Medien</td>\n",
       "      <td>-1.932445</td>\n",
       "      <td>-4.851308</td>\n",
       "    </tr>\n",
       "    <tr>\n",
       "      <th>18</th>\n",
       "      <td>sind</td>\n",
       "      <td>1.146981</td>\n",
       "      <td>-2.093931</td>\n",
       "    </tr>\n",
       "    <tr>\n",
       "      <th>19</th>\n",
       "      <td>eine</td>\n",
       "      <td>3.057756</td>\n",
       "      <td>0.825868</td>\n",
       "    </tr>\n",
       "  </tbody>\n",
       "</table>\n",
       "</div>"
      ],
      "text/plain": [
       "                 word         x         y\n",
       "0                  EU  5.308983 -2.753000\n",
       "1   Justizkommissarin  5.052724  1.555744\n",
       "2                Vera -1.289725 -3.400242\n",
       "3             Jourova  1.652489 -1.025158\n",
       "4                 hat  3.694029  1.033950\n",
       "5                 vor -3.136167 -0.052709\n",
       "6               einer  3.661311 -1.255546\n",
       "7         zunehmenden  6.314854  0.903502\n",
       "8       Beeinflussung  2.304256  0.010765\n",
       "9                 von -2.814842  0.286160\n",
       "10                  W  2.869040 -5.788897\n",
       "11              hlern  3.970899  1.987499\n",
       "12                 im  4.411847 -1.031193\n",
       "13           Internet  2.963832 -1.101234\n",
       "14            gewarnt  6.082754 -3.542899\n",
       "15                Die  4.921178 -4.272967\n",
       "16             Online -1.991684 -0.988791\n",
       "17             Medien -1.932445 -4.851308\n",
       "18               sind  1.146981 -2.093931\n",
       "19               eine  3.057756  0.825868"
      ]
     },
     "execution_count": 26,
     "metadata": {},
     "output_type": "execute_result"
    }
   ],
   "source": [
    "%%time\n",
    "points.head(20)"
   ]
  },
  {
   "cell_type": "code",
   "execution_count": 27,
   "metadata": {},
   "outputs": [],
   "source": [
    "#sns.set_context(\"poster\")"
   ]
  },
  {
   "cell_type": "code",
   "execution_count": 28,
   "metadata": {},
   "outputs": [
    {
     "name": "stdout",
     "output_type": "stream",
     "text": [
      "CPU times: user 53.9 ms, sys: 5.69 ms, total: 59.6 ms\n",
      "Wall time: 58.4 ms\n"
     ]
    },
    {
     "data": {
      "text/plain": [
       "<matplotlib.axes._subplots.AxesSubplot at 0x11336da20>"
      ]
     },
     "execution_count": 28,
     "metadata": {},
     "output_type": "execute_result"
    },
    {
     "data": {
      "image/png": "[encoded data removed]",
      "text/plain": [
       "<Figure size 1440x864 with 1 Axes>"
      ]
     },
     "metadata": {},
     "output_type": "display_data"
    }
   ],
   "source": [
    "%%time\n",
    "\n",
    "points.plot.scatter(\"x\", \"y\", s=10, figsize=(20, 12))"
   ]
  },
  {
   "cell_type": "code",
   "execution_count": 29,
   "metadata": {},
   "outputs": [],
   "source": [
    "def plot_region(x_bounds, y_bounds):\n",
    "    slice = points[\n",
    "        (x_bounds[0] <= points.x) & (points.x <= x_bounds[1]) &\n",
    "        (y_bounds[0] <= points.y) & (points.y <= y_bounds[1]) \n",
    "    ]\n",
    "    \n",
    "    print(slice)\n",
    "    \n",
    "    if(slice.empty):\n",
    "        print(\"DataFrame is empty. Please choose other x/y\")\n",
    "    else:\n",
    "        ax = slice.plot.scatter(x='x', y='y', s=35, figsize=(10, 8))\n",
    "        for i, point in slice.iterrows():\n",
    "            ax.text(point.x + 0.005, point.y + 0.005, point.word, fontsize=11)"
   ]
  },
  {
   "cell_type": "code",
   "execution_count": 30,
   "metadata": {},
   "outputs": [
    {
     "name": "stdout",
     "output_type": "stream",
     "text": [
      "                   word         x         y\n",
      "8         Beeinflussung  2.304256  0.010765\n",
      "9                   von -2.814842  0.286160\n",
      "30                    m  2.731057  0.850506\n",
      "33              Staaten  2.070332  1.634050\n",
      "38                  der -1.749065  1.684450\n",
      "39   Wahlentscheidungen  1.812083  0.349969\n",
      "45                    r -2.980986  1.795616\n",
      "47                 dass -0.534732  1.605109\n",
      "60                knapp  0.735563  1.243354\n",
      "73                unter  0.220062  0.326158\n",
      "74              anderem -0.124415  1.898580\n",
      "75                  mit  1.088074  0.169136\n",
      "85                   zu  1.565624  1.628767\n",
      "90            Cambridge -1.767631  0.673592\n",
      "91            Analytica -0.037135  0.580966\n",
      "93                 rger  0.187188  0.463276\n",
      "98              Weckruf  2.114766  0.240531\n",
      "106                  Pr  0.912856  0.549429\n",
      "109               Trump -1.305773  0.618845\n",
      "116              Wahlen  1.315571  1.479399\n",
      "123           Kampagnen  2.250563  1.985013\n",
      "129                  re -2.842753  1.676217\n",
      "132              weiter  1.229361  1.211960\n",
      "135                 sse  2.462374  1.965416\n",
      "136                aber  1.947312  0.300719\n",
      "137          Einhaltung -1.374042  0.685310\n",
      "138              Regeln -0.465653  1.736336\n"
     ]
    },
    {
     "data": {
      "image/png": "[encoded data removed]",
      "text/plain": [
       "<Figure size 720x576 with 1 Axes>"
      ]
     },
     "metadata": {},
     "output_type": "display_data"
    }
   ],
   "source": [
    "plot_region(x_bounds=(-3, 3), y_bounds=(0, 2))"
   ]
  },
  {
   "cell_type": "code",
   "execution_count": 31,
   "metadata": {},
   "outputs": [
    {
     "data": {
      "text/plain": [
       "[('Katarina', 0.11590475589036942),\n",
       " ('sonst', 0.10558962821960449),\n",
       " ('waren', 0.10504832863807678),\n",
       " ('Wahlkampagnen', 0.10477922111749649),\n",
       " ('ssten', 0.09456422924995422),\n",
       " ('dass', 0.08733183145523071),\n",
       " ('Black', 0.07918941229581833),\n",
       " ('sidenten', 0.0771758183836937),\n",
       " ('Medien', 0.07688486576080322),\n",
       " ('hielt', 0.07207708060741425)]"
      ]
     },
     "execution_count": 31,
     "metadata": {},
     "output_type": "execute_result"
    }
   ],
   "source": [
    "article2vec.wv.most_similar(\"Frage\")"
   ]
  },
  {
   "cell_type": "code",
   "execution_count": 32,
   "metadata": {},
   "outputs": [
    {
     "data": {
      "text/plain": [
       "-0.05293437802937577"
      ]
     },
     "execution_count": 32,
     "metadata": {},
     "output_type": "execute_result"
    }
   ],
   "source": [
    "article2vec.wv.similarity('Frage', 'Transparenz')"
   ]
  },
  {
   "cell_type": "code",
   "execution_count": null,
   "metadata": {},
   "outputs": [],
   "source": []
  },
  {
   "cell_type": "code",
   "execution_count": null,
   "metadata": {},
   "outputs": [],
   "source": []
  },
  {
   "cell_type": "code",
   "execution_count": 35,
   "metadata": {},
   "outputs": [],
   "source": [
    "import numpy as np\n",
    "from scipy import spatial"
   ]
  },
  {
   "cell_type": "code",
   "execution_count": 38,
   "metadata": {},
   "outputs": [],
   "source": [
    "index2word_set = set(article2vec.wv.index2word)"
   ]
  },
  {
   "cell_type": "code",
   "execution_count": 57,
   "metadata": {},
   "outputs": [],
   "source": [
    "def avg_feature_vector(sentence, model, num_features, index2word_set):\n",
    "    words = sentence.split()\n",
    "    feature_vec = np.zeros((num_features, ), dtype='float32')\n",
    "    n_words = 0\n",
    "    for word in words:\n",
    "        if word in index2word_set:\n",
    "            n_words += 1\n",
    "            feature_vec = np.add(feature_vec, model[word])\n",
    "    if (n_words > 0):\n",
    "        feature_vec = np.divide(feature_vec, n_words)\n",
    "    return feature_vec"
   ]
  },
  {
   "cell_type": "code",
   "execution_count": 59,
   "metadata": {},
   "outputs": [
    {
     "name": "stdout",
     "output_type": "stream",
     "text": [
      "0.5805947780609131\n"
     ]
    },
    {
     "name": "stderr",
     "output_type": "stream",
     "text": [
      "/usr/local/lib/python3.6/site-packages/ipykernel_launcher.py:8: DeprecationWarning: Call to deprecated `__getitem__` (Method will be removed in 4.0.0, use self.wv.__getitem__() instead).\n",
      "  \n"
     ]
    }
   ],
   "source": [
    "tt1=\"Ein Fernsehgerät oder Fernsehapparat, in den 1930er Jahren auch Ferntonkino oder das Telehor (von altgriechisch horao = ‚sehen‘), ist ein Gerät zum Empfang und zur Wiedergabe von analogen und digitalen Fernsehsignalen. Die Idee für einen ersten mechanischen Fernsehapparat wurde bereits 1886 von Paul Nipkow in einem Patent dargelegt. Er gilt damit als der eigentliche Erfinder des Fernsehens. Gebräuchlich für Fernsehgeräte ist auch die Bezeichnung Fernsehempfänger.\"\n",
    "tt2=\"Die Sonne ist der Stern im Zentrum des Sonnensystems. Sie ist ein durchschnittlich großer Stern im äußeren Drittel der Milchstraße. Die Sonne ist ein Hauptreihen­stern (Zwergstern). Sie enthält 99,86 % der gesamten Masse des Sonnensystems und hat einen Durchmesser von 1,4 Millionen Kilometern, dem 109-fachen der Erde.\"\n",
    "\n",
    "s1_afv = avg_feature_vector(tt1, model=article2vec, num_features=300, index2word_set=index2word_set)\n",
    "s2_afv = avg_feature_vector(tt2, model=article2vec, num_features=300, index2word_set=index2word_set)\n",
    "sim = 1 - spatial.distance.cosine(s1_afv, s2_afv)\n",
    "print(sim)"
   ]
  },
  {
   "cell_type": "code",
   "execution_count": null,
   "metadata": {},
   "outputs": [],
   "source": []
  }
 ],
 "metadata": {
  "kernelspec": {
   "display_name": "Python 3",
   "language": "python",
   "name": "python3"
  },
  "language_info": {
   "codemirror_mode": {
    "name": "ipython",
    "version": 3
   },
   "file_extension": ".py",
   "mimetype": "text/x-python",
   "name": "python",
   "nbconvert_exporter": "python",
   "pygments_lexer": "ipython3",
   "version": "3.6.5"
  }
 },
 "nbformat": 4,
 "nbformat_minor": 2
}
